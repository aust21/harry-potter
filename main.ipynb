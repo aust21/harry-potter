{
 "cells": [
  {
   "cell_type": "code",
   "execution_count": 3,
   "id": "82ad0268-9c5f-4f60-9155-79088a99e5ed",
   "metadata": {},
   "outputs": [
    {
     "name": "stdout",
     "output_type": "stream",
     "text": [
      "OpenCV version: 4.10.0\n",
      "Starting main loop. Press 'q' to quit.\n"
     ]
    },
    {
     "ename": "NameError",
     "evalue": "name 'background' is not defined",
     "output_type": "error",
     "traceback": [
      "\u001b[0;31m---------------------------------------------------------------------------\u001b[0m",
      "\u001b[0;31mNameError\u001b[0m                                 Traceback (most recent call last)",
      "Cell \u001b[0;32mIn[3], line 78\u001b[0m\n\u001b[1;32m     75\u001b[0m     cv2\u001b[38;5;241m.\u001b[39mdestroyAllWindows()\n\u001b[1;32m     77\u001b[0m \u001b[38;5;28;01mif\u001b[39;00m \u001b[38;5;18m__name__\u001b[39m \u001b[38;5;241m==\u001b[39m \u001b[38;5;124m\"\u001b[39m\u001b[38;5;124m__main__\u001b[39m\u001b[38;5;124m\"\u001b[39m:\n\u001b[0;32m---> 78\u001b[0m     \u001b[43mmain\u001b[49m\u001b[43m(\u001b[49m\u001b[43m)\u001b[49m\n",
      "Cell \u001b[0;32mIn[3], line 67\u001b[0m, in \u001b[0;36mmain\u001b[0;34m()\u001b[0m\n\u001b[1;32m     63\u001b[0m mask \u001b[38;5;241m=\u001b[39m create_mask(frame, lower_blue, upper_blue)\n\u001b[1;32m     65\u001b[0m combined_mask \u001b[38;5;241m=\u001b[39m cv2\u001b[38;5;241m.\u001b[39mbitwise_and(bg_mask, mask)\n\u001b[0;32m---> 67\u001b[0m result \u001b[38;5;241m=\u001b[39m apply_cloak_effect(frame, combined_mask, \u001b[43mbackground\u001b[49m)\n\u001b[1;32m     69\u001b[0m cv2\u001b[38;5;241m.\u001b[39mimshow(\u001b[38;5;124m'\u001b[39m\u001b[38;5;124mInvisible Cloak\u001b[39m\u001b[38;5;124m'\u001b[39m, result)\n\u001b[1;32m     71\u001b[0m \u001b[38;5;28;01mif\u001b[39;00m cv2\u001b[38;5;241m.\u001b[39mwaitKey(\u001b[38;5;241m1\u001b[39m) \u001b[38;5;241m&\u001b[39m \u001b[38;5;241m0xFF\u001b[39m \u001b[38;5;241m==\u001b[39m \u001b[38;5;28mord\u001b[39m(\u001b[38;5;124m'\u001b[39m\u001b[38;5;124mq\u001b[39m\u001b[38;5;124m'\u001b[39m):\n",
      "\u001b[0;31mNameError\u001b[0m: name 'background' is not defined"
     ]
    }
   ],
   "source": [
    "import cv2\n",
    "import numpy as np\n",
    "import time\n",
    "\n",
    "def create_background(cap, num_frames=30):\n",
    "    print(\"Capturing background. Please move out of frame.\")\n",
    "    backgrounds = []\n",
    "    for i in range(num_frames):\n",
    "        ret, frame = cap.read()\n",
    "        if ret:\n",
    "            backgrounds.append(frame)\n",
    "        else:\n",
    "            print(f\"Warning: Could not read frame {i+1}/{num_frames}\")\n",
    "        time.sleep(0.1)\n",
    "    if backgrounds:\n",
    "        return np.median(backgrounds, axis=0).astype(np.uint8)\n",
    "    else:\n",
    "        raise ValueError(\"Could not capture any frames for background\")\n",
    "\n",
    "def create_mask(frame, lower_color, upper_color):\n",
    "    hsv = cv2.cvtColor(frame, cv2.COLOR_BGR2HSV)\n",
    "    mask = cv2.inRange(hsv, lower_color, upper_color)\n",
    "    mask = cv2.morphologyEx(mask, cv2.MORPH_OPEN, np.ones((3, 3), np.uint8), iterations=2)\n",
    "    mask = cv2.morphologyEx(mask, cv2.MORPH_DILATE, np.ones((3, 3), np.uint8), iterations=1)\n",
    "    return mask\n",
    "\n",
    "def apply_cloak_effect(frame, mask, background):\n",
    "    mask_inv = cv2.bitwise_not(mask)\n",
    "    fg = cv2.bitwise_and(frame, frame, mask=mask_inv)\n",
    "    bg = cv2.bitwise_and(background, background, mask=mask)\n",
    "    return cv2.add(fg, bg)\n",
    "\n",
    "def main():\n",
    "    print(\"OpenCV version:\", cv2.__version__)\n",
    "\n",
    "    cap = cv2.VideoCapture(0)\n",
    "    \n",
    "    if not cap.isOpened():\n",
    "        print(\"Error: Could not open camera.\")\n",
    "        return\n",
    "\n",
    "    background_subtractor = cv2.createBackgroundSubtractorMOG2(history=500, varThreshold=16, detectShadows=False)\n",
    "    # try:\n",
    "    #     background = create_background(cap)\n",
    "    # except ValueError as e:\n",
    "    #     print(f\"Error: {e}\")\n",
    "    #     cap.release()\n",
    "    #     return\n",
    "\n",
    "    lower_blue = np.array([90, 50, 50])\n",
    "    upper_blue = np.array([130, 255, 255])\n",
    "\n",
    "    print(\"Starting main loop. Press 'q' to quit.\")\n",
    "    while True:\n",
    "        ret, frame = cap.read()\n",
    "        if not ret:\n",
    "            print(\"Error: Could not read frame.\")\n",
    "            time.sleep(1)\n",
    "            break\n",
    "\n",
    "        bg_mask = background_subtractor.apply(frame)\n",
    "        feed_background = background_subtractor.getBackgroundImage()\n",
    "        mask = create_mask(frame, lower_blue, upper_blue)\n",
    "\n",
    "        combined_mask = cv2.bitwise_and(bg_mask, mask)\n",
    "        \n",
    "        result = apply_cloak_effect(frame, combined_mask, background)\n",
    "\n",
    "        cv2.imshow('Invisible Cloak', result)\n",
    "\n",
    "        if cv2.waitKey(1) & 0xFF == ord('q'):\n",
    "            break\n",
    "\n",
    "    cap.release()\n",
    "    cv2.destroyAllWindows()\n",
    "\n",
    "if __name__ == \"__main__\":\n",
    "    main()"
   ]
  },
  {
   "cell_type": "code",
   "execution_count": null,
   "id": "7f7cdc8a-b6ce-433f-99fe-85c97d0dcb13",
   "metadata": {},
   "outputs": [],
   "source": []
  }
 ],
 "metadata": {
  "kernelspec": {
   "display_name": "Python 3 (ipykernel)",
   "language": "python",
   "name": "python3"
  },
  "language_info": {
   "codemirror_mode": {
    "name": "ipython",
    "version": 3
   },
   "file_extension": ".py",
   "mimetype": "text/x-python",
   "name": "python",
   "nbconvert_exporter": "python",
   "pygments_lexer": "ipython3",
   "version": "3.10.12"
  }
 },
 "nbformat": 4,
 "nbformat_minor": 5
}
