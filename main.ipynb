{
 "cells": [
  {
   "cell_type": "code",
   "execution_count": 1,
   "id": "82ad0268-9c5f-4f60-9155-79088a99e5ed",
   "metadata": {},
   "outputs": [
    {
     "name": "stdout",
     "output_type": "stream",
     "text": [
      "OpenCV version: 4.10.0\n",
      "Starting main loop. Press 'q' to quit.\n"
     ]
    }
   ],
   "source": [
    "import cv2\n",
    "import numpy as np\n",
    "import time\n",
    "\n",
    "def create_background(cap, num_frames=30):\n",
    "    print(\"Capturing background. Please move out of frame.\")\n",
    "    backgrounds = []\n",
    "    for i in range(num_frames):\n",
    "        ret, frame = cap.read()\n",
    "        if ret:\n",
    "            backgrounds.append(frame)\n",
    "        else:\n",
    "            print(f\"Warning: Could not read frame {i+1}/{num_frames}\")\n",
    "        time.sleep(0.1)\n",
    "    if backgrounds:\n",
    "        return np.median(backgrounds, axis=0).astype(np.uint8)\n",
    "    else:\n",
    "        raise ValueError(\"Could not capture any frames for background\")\n",
    "\n",
    "def create_mask(frame, lower_color, upper_color):\n",
    "    hsv = cv2.cvtColor(frame, cv2.COLOR_BGR2HSV)\n",
    "    mask = cv2.inRange(hsv, lower_color, upper_color)\n",
    "    mask = cv2.morphologyEx(mask, cv2.MORPH_OPEN, np.ones((3, 3), np.uint8), iterations=2)\n",
    "    mask = cv2.morphologyEx(mask, cv2.MORPH_DILATE, np.ones((3, 3), np.uint8), iterations=1)\n",
    "    return mask\n",
    "\n",
    "def apply_cloak_effect(frame, mask, background):\n",
    "    mask_inv = cv2.bitwise_not(mask)\n",
    "    fg = cv2.bitwise_and(frame, frame, mask=mask_inv)\n",
    "    bg = cv2.bitwise_and(background, background, mask=mask)\n",
    "    return cv2.add(fg, bg)\n",
    "\n",
    "def main():\n",
    "    print(\"OpenCV version:\", cv2.__version__)\n",
    "\n",
    "    cap = cv2.VideoCapture(0)\n",
    "    \n",
    "    if not cap.isOpened():\n",
    "        print(\"Error: Could not open camera.\")\n",
    "        return\n",
    "\n",
    "    background_subtractor = cv2.createBackgroundSubtractorMOG2(history=500, varThreshold=16, detectShadows=False)\n",
    "    # try:\n",
    "    #     background = create_background(cap)\n",
    "    # except ValueError as e:\n",
    "    #     print(f\"Error: {e}\")\n",
    "    #     cap.release()\n",
    "    #     return\n",
    "\n",
    "    lower_blue = np.array([90, 50, 50])\n",
    "    upper_blue = np.array([130, 255, 255])\n",
    "\n",
    "    print(\"Starting main loop. Press 'q' to quit.\")\n",
    "    while True:\n",
    "        ret, frame = cap.read()\n",
    "        if not ret:\n",
    "            print(\"Error: Could not read frame.\")\n",
    "            time.sleep(1)\n",
    "            break\n",
    "\n",
    "        bg_mask = background_subtractor.apply(frame)\n",
    "        feed_background = background_subtractor.getBackgroundImage()\n",
    "        mask = create_mask(frame, lower_blue, upper_blue)\n",
    "\n",
    "        combined_mask = cv2.bitwise_and(bg_mask, mask)\n",
    "        \n",
    "        result = apply_cloak_effect(frame, combined_mask, feed_background)\n",
    "\n",
    "        cv2.imshow('Invisible Cloak', result)\n",
    "\n",
    "        if cv2.waitKey(1) & 0xFF == ord('q'):\n",
    "            break\n",
    "\n",
    "    cap.release()\n",
    "    cv2.destroyAllWindows()\n",
    "\n",
    "if __name__ == \"__main__\":\n",
    "    main()"
   ]
  },
  {
   "cell_type": "code",
   "execution_count": null,
   "id": "7f7cdc8a-b6ce-433f-99fe-85c97d0dcb13",
   "metadata": {},
   "outputs": [],
   "source": []
  }
 ],
 "metadata": {
  "kernelspec": {
   "display_name": "Python 3 (ipykernel)",
   "language": "python",
   "name": "python3"
  },
  "language_info": {
   "codemirror_mode": {
    "name": "ipython",
    "version": 3
   },
   "file_extension": ".py",
   "mimetype": "text/x-python",
   "name": "python",
   "nbconvert_exporter": "python",
   "pygments_lexer": "ipython3",
   "version": "3.10.12"
  }
 },
 "nbformat": 4,
 "nbformat_minor": 5
}
